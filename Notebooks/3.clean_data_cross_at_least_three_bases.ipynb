{
 "cells": [
  {
   "cell_type": "markdown",
   "metadata": {},
   "source": [
    "## clean_data_cross_at_least_three_bases\n",
    "\n",
    "This notebook is designed to:\n",
    "\n",
    "- Count how many bases does each feature class presents.\n",
    "- Copy those feature classes which cross at least 3 bases into a new folder called \"03_clean_data_cross_at_least_three_bases\".\n",
    "- Upload the data to AGOL.\n",
    "- calculate the percentage of data coverage of each base "
   ]
  },
  {
   "cell_type": "code",
   "execution_count": 1,
   "metadata": {},
   "outputs": [],
   "source": [
    "import arcpy\n",
    "import os"
   ]
  },
  {
   "cell_type": "code",
   "execution_count": 2,
   "metadata": {},
   "outputs": [],
   "source": [
    "source_folder = r\"C:\\Users\\ma000551\\Desktop\\AFRICOM\\AFRICOM_CLEAN_DATA\\02_raw_no_duplicates_or_empty_feature_layers\"\n",
    "\n",
    "clean_gdbs_path = [\n",
    "    fr\"{source_folder}\\Chebelley_40_MASTER.gdb\",\n",
    "    #fr\"{source_folder}\\CIP_311_AB201.gdb\",\n",
    "    #fr\"{source_folder}\\Niamey_SDSFIE_311_Master_9Jan2023.gdb\",\n",
    "    fr\"{source_folder}\\SDSFIE_05Apr2023.gdb\",\n",
    "    # update\n",
    "    fr\"{source_folder}\\AB201_JAN2024.gdb\",\n",
    "    fr\"{source_folder}\\Niamey_SDSFIE_311_Master_18MAY2023.gdb\"\n",
    "]"
   ]
  },
  {
   "cell_type": "markdown",
   "metadata": {},
   "source": [
    "#### create \"03_clean_data_cross_at_least_three_bases\" folder"
   ]
  },
  {
   "cell_type": "code",
   "execution_count": 4,
   "metadata": {},
   "outputs": [],
   "source": [
    "basefolder = r\"C:\\Users\\ma000551\\Desktop\\AFRICOM\\AFRICOM_CLEAN_DATA\"\n",
    "\n",
    "# Name of the folder to be created\n",
    "output_folder_name = \"03_clean_data_cross_at_least_three_bases\"\n",
    "\n",
    "# Path to the new folder\n",
    "new_folder_path = os.path.join(basefolder, output_folder_name)\n",
    "\n",
    "# Check if the directory already exists\n",
    "if not os.path.exists(new_folder_path):\n",
    "    # Create the directory if it doesn't exist\n",
    "    os.makedirs(new_folder_path)"
   ]
  },
  {
   "cell_type": "markdown",
   "metadata": {},
   "source": [
    "#### prints out how many bases does each feature class presents"
   ]
  },
  {
   "cell_type": "code",
   "execution_count": 12,
   "metadata": {},
   "outputs": [],
   "source": [
    "# Dictionary to store encountered feature class names and the count of their occurrences\n",
    "fc_counts = {}\n",
    "\n",
    "# Dictionary to store feature class names and the list of geodatabase names where they occur\n",
    "fc_gdbs = {}\n",
    "\n",
    "# Loop through the rest of the geodatabases\n",
    "for gdb in clean_gdbs_path:\n",
    "    # Set the workspace for the current gdb\n",
    "    arcpy.env.workspace = gdb\n",
    "    gdb_name = os.path.basename(arcpy.env.workspace)\n",
    "    \n",
    "    # list all datasets in gdbs\n",
    "    feature_fds = arcpy.ListDatasets(\"\", \"\")\n",
    "    \n",
    "    # if the database has datasets\n",
    "    if feature_fds:\n",
    "        for fd in feature_fds:\n",
    "            \n",
    "            # list all the feature classes\n",
    "            fcs = arcpy.ListFeatureClasses(\"*\", \"ALL\", fd)\n",
    "\n",
    "    else:\n",
    "        # List all feature classes in the current gdb\n",
    "        fcs = arcpy.ListFeatureClasses()\n",
    "\n",
    "        # Check if fcs is not None\n",
    "        if fcs:\n",
    "            # Check each feature class\n",
    "            for fc in fcs:\n",
    "                # Convert feature class name to lowercase\n",
    "                fc_lower = fc.lower()  \n",
    "                # Increment count for the feature class name in fc_counts\n",
    "                fc_counts[fc_lower] = fc_counts.get(fc_lower, 0) + 1\n",
    "                # Add the current gdb name to the list of geodatabase names for the feature class\n",
    "                fc_gdbs.setdefault(fc_lower, set()).add(gdb_name)\n",
    "                "
   ]
  },
  {
   "cell_type": "code",
   "execution_count": 13,
   "metadata": {},
   "outputs": [
    {
     "data": {
      "text/plain": [
       "{'installation_p': 2, 'installation_a': 4, 'site_p': 1, 'site_a': 1, 'zones_a_12_2022': 1, 'emergencymedicalpoint_p': 1, 'wall_l': 4, 'wall_a': 2, 'controlmonument_p': 2, 'esqdarc_a': 2, 'impactarea_a': 1, 'militarylandingzone_a': 1, 'militaryobservationposition_p': 1, 'spentmunitionsstorage_p': 1, 'spentmunitionsstorage_a': 2, 'pavementslab_a': 4, 'airaccidentpotentialzone_a': 1, 'airfieldimaginarysurface_a': 4, 'designatedtobaccouse_p': 1, 'futureprojectsite_a': 2, 'landmanagementzone_a': 2, 'landuse_a': 2, 'standoffdistancearc_a': 1, 'building_a': 4, 'structure_a': 4, 'tower_p': 2, 'tower_a': 3, 'accesscontrol_l': 4, 'accesscontrol_p': 4, 'fence_l': 4, 'restrictedarea_a': 1, 'vehicleparking_a': 2, 'pavementmarking_a': 2, 'pavementmarking_l': 1, 'airfield_a': 2, 'roadway_l': 1, 'roadway_a': 2, 'roadcenterline_l': 3, 'trafficcontrolpostsign_p': 2, 'airfield_l': 2, 'caccesspoint_p': 1, 'cconduit_l': 1, 'cfibercable_l': 1, 'eairfieldlight_p': 2, 'eexteriorlight_p': 4, 'egenerator_p': 4, 'eugprimary_l': 4, 'eohsecondary_l': 1, 'etransformer_p': 3, 'ostoragetank_p': 2, 'opumpstation_p': 1, 'sgravitymain_l': 2, 'sseptictank_p': 2, 'swculvert_l': 2, 'swopendrainage_l': 2, 'wsource_p': 2, 'wstoragetank_p': 2, 'hazardouswastemanagement_p': 1, 'archaeologicalsite_a': 2, 'archaeologicalsite_p': 1, 'burialsite_p': 1, 'waterfeature_l': 1, 'incident_p': 1, 'cemeteryorburialsite_a': 1, 'waterbody_a': 1, 'watercourseline_l': 1, 'survey_p': 1, 'berm_a': 3, 'radarequipment_a': 1, 'radarequipment_p': 1, 'militaryrange_a': 2, 'futureprojects_p': 1, 'flagpole_p': 2, 'recreationarea_a': 1, 'barricade_l': 3, 'barricade_p': 2, 'sectorzone_a': 1, 'accesscontrol_a': 1, 'navigationalaid_p': 1, 'pavementmarkings_a': 1, 'roadarea_a': 2, 'airfieldsurface_a': 2, 'esubstation_p': 1, 'evoltageregulator_p': 1, 'storagetank_a': 2, 'storagetankfarm_a': 2, 'commutilitynode_p': 1, 'commutilitysegment_l': 2, 'well_p': 1, 'sseptictank_a': 2, 'slinegravityservice_l': 2, 'wlinemain_l': 2, 'wwatertreatment_a': 1, 'docksandwharfs_a': 1, 'noisesource_p': 1, 'noisezone_a': 1, 'sign_p': 1, 'elevationcontour_l': 2, 'ammunitionstorage_a': 1, 'esqdarccomposite_a': 1, 'administrativeboundary_a': 1, 'structure_p': 1, 'recreationboundary_a': 1, 'barricade_a': 2, 'monitoringlocation_p': 1, 'uluc2route_l': 1, 'sidewalk_a': 2, 'roadpath_l': 1, 'windsock_p': 1, 'cdevice_p': 1, 'cpathnode_p': 1, 'cserviceloop_l': 1, 'cspeaker_p': 1, 'eaccesspoint_p': 2, 'eugsecondary_l': 1, 'eoutageandrepair_p': 1, 'eswitch_p': 2, 'solarpanel_p': 1, 'oinstallationpipeline_l': 1, 'opump_p': 1, 'scleanout_p': 1, 'slateralline_l': 1, 'snetworkstructure_p': 1, 'svalve_p': 1, 'streatmentplant_a': 1, 'smanhole_p': 2, 'swstoragereservoir_a': 1, 'swmanhole_p': 1, 'wcontrolvalve_p': 2, 'wfitting_p': 1, 'wmainline_l': 1, 'wserviceline_l': 1, 'burialsite_a': 1, 'culturalrestrictedaccess_a': 1, 'culturalsurvey_a': 1, 'vegetation_a': 1, 'waterfeature_a': 1, 'hazardouswastesite_p': 1, 'floodplainarea_a': 1, 'controlmonumentpoint_p': 1, 'futureprojects_a': 1, 'recreationfeature_a': 1, 'gateanno': 1, 'pavementmarkings_l': 1, 'eswitchingstation_p': 1, 'scontrolvalve_p': 1, 'sgreasetrap_p': 1, 'slinegravitymain_l': 1, 'dculvert_l': 1, 'dopendrainage_l': 1, 'wlineservice_l': 1, 'wpump_p': 1}"
      ]
     },
     "execution_count": 13,
     "metadata": {},
     "output_type": "execute_result"
    }
   ],
   "source": [
    "fc_counts"
   ]
  },
  {
   "cell_type": "code",
   "execution_count": 5,
   "metadata": {},
   "outputs": [
    {
     "data": {
      "text/plain": [
       "{'Installation_P': {'Chebelley_40_MASTER.gdb'}, 'Installation_A': {'CIP_311_AB201.gdb', 'Chebelley_40_MASTER.gdb', 'SDSFIE_05Apr2023.gdb', 'Niamey_SDSFIE_311_Master_9Jan2023.gdb'}, 'Site_P': {'Chebelley_40_MASTER.gdb'}, 'Site_A': {'Chebelley_40_MASTER.gdb'}, 'Zones_A_12_2022': {'Chebelley_40_MASTER.gdb'}, 'EmergencyMedicalPoint_P': {'Chebelley_40_MASTER.gdb'}, 'Wall_L': {'CIP_311_AB201.gdb', 'Chebelley_40_MASTER.gdb', 'SDSFIE_05Apr2023.gdb', 'Niamey_SDSFIE_311_Master_9Jan2023.gdb'}, 'Wall_A': {'CIP_311_AB201.gdb', 'Chebelley_40_MASTER.gdb'}, 'ControlMonument_P': {'Chebelley_40_MASTER.gdb'}, 'EsqdArc_A': {'Chebelley_40_MASTER.gdb'}, 'ImpactArea_A': {'Chebelley_40_MASTER.gdb'}, 'MilitaryLandingZone_A': {'Chebelley_40_MASTER.gdb'}, 'MilitaryObservationPosition_P': {'Chebelley_40_MASTER.gdb'}, 'SpentMunitionsStorage_P': {'Chebelley_40_MASTER.gdb'}, 'SpentMunitionsStorage_A': {'Chebelley_40_MASTER.gdb'}, 'PavementSlab_A': {'CIP_311_AB201.gdb', 'Chebelley_40_MASTER.gdb', 'SDSFIE_05Apr2023.gdb', 'Niamey_SDSFIE_311_Master_9Jan2023.gdb'}, 'AirAccidentPotentialZone_A': {'Chebelley_40_MASTER.gdb'}, 'AirfieldImaginarySurface_A': {'CIP_311_AB201.gdb', 'Chebelley_40_MASTER.gdb', 'SDSFIE_05Apr2023.gdb', 'Niamey_SDSFIE_311_Master_9Jan2023.gdb'}, 'DesignatedTobaccoUse_P': {'Chebelley_40_MASTER.gdb'}, 'FutureProjectSite_A': {'Chebelley_40_MASTER.gdb'}, 'LandManagementZone_A': {'CIP_311_AB201.gdb', 'Chebelley_40_MASTER.gdb'}, 'LandUse_A': {'CIP_311_AB201.gdb', 'Chebelley_40_MASTER.gdb'}, 'StandoffDistanceArc_A': {'Chebelley_40_MASTER.gdb'}, 'Building_A': {'CIP_311_AB201.gdb', 'Chebelley_40_MASTER.gdb', 'SDSFIE_05Apr2023.gdb', 'Niamey_SDSFIE_311_Master_9Jan2023.gdb'}, 'Structure_A': {'CIP_311_AB201.gdb', 'Chebelley_40_MASTER.gdb', 'SDSFIE_05Apr2023.gdb', 'Niamey_SDSFIE_311_Master_9Jan2023.gdb'}, 'Tower_P': {'CIP_311_AB201.gdb', 'Chebelley_40_MASTER.gdb'}, 'Tower_A': {'Chebelley_40_MASTER.gdb', 'SDSFIE_05Apr2023.gdb', 'Niamey_SDSFIE_311_Master_9Jan2023.gdb'}, 'AccessControl_L': {'CIP_311_AB201.gdb', 'Chebelley_40_MASTER.gdb', 'SDSFIE_05Apr2023.gdb', 'Niamey_SDSFIE_311_Master_9Jan2023.gdb'}, 'AccessControl_P': {'Chebelley_40_MASTER.gdb', 'SDSFIE_05Apr2023.gdb', 'Niamey_SDSFIE_311_Master_9Jan2023.gdb'}, 'Fence_L': {'CIP_311_AB201.gdb', 'Chebelley_40_MASTER.gdb', 'SDSFIE_05Apr2023.gdb', 'Niamey_SDSFIE_311_Master_9Jan2023.gdb'}, 'RestrictedArea_A': {'Chebelley_40_MASTER.gdb'}, 'VehicleParking_A': {'Chebelley_40_MASTER.gdb', 'Niamey_SDSFIE_311_Master_9Jan2023.gdb'}, 'PavementMarking_A': {'Chebelley_40_MASTER.gdb'}, 'PavementMarking_L': {'Chebelley_40_MASTER.gdb'}, 'Airfield_A': {'Chebelley_40_MASTER.gdb'}, 'Roadway_L': {'Chebelley_40_MASTER.gdb'}, 'Roadway_A': {'Chebelley_40_MASTER.gdb'}, 'RoadCenterline_L': {'Chebelley_40_MASTER.gdb', 'SDSFIE_05Apr2023.gdb'}, 'TrafficControlPostSign_P': {'Chebelley_40_MASTER.gdb'}, 'Airfield_L': {'Chebelley_40_MASTER.gdb'}, 'CAccessPoint_P': {'Chebelley_40_MASTER.gdb'}, 'CConduit_L': {'Chebelley_40_MASTER.gdb'}, 'CFiberCable_L': {'Chebelley_40_MASTER.gdb'}, 'EAirfieldLight_P': {'Chebelley_40_MASTER.gdb'}, 'EExteriorLight_P': {'Chebelley_40_MASTER.gdb'}, 'EGenerator_P': {'Chebelley_40_MASTER.gdb'}, 'EUGPrimary_L': {'Chebelley_40_MASTER.gdb'}, 'EOHSecondary_L': {'Chebelley_40_MASTER.gdb'}, 'ETransformer_P': {'Chebelley_40_MASTER.gdb'}, 'OStorageTank_P': {'Chebelley_40_MASTER.gdb'}, 'OPumpStation_P': {'Chebelley_40_MASTER.gdb'}, 'SGravityMain_L': {'Chebelley_40_MASTER.gdb'}, 'SSepticTank_P': {'Chebelley_40_MASTER.gdb'}, 'SwCulvert_L': {'Chebelley_40_MASTER.gdb'}, 'SwOpenDrainage_L': {'Chebelley_40_MASTER.gdb'}, 'WSource_P': {'Chebelley_40_MASTER.gdb'}, 'WStorageTank_P': {'Chebelley_40_MASTER.gdb'}, 'HazardousWasteManagement_P': {'Chebelley_40_MASTER.gdb'}, 'ArchaeologicalSite_A': {'Chebelley_40_MASTER.gdb', 'SDSFIE_05Apr2023.gdb'}, 'ArchaeologicalSite_P': {'Chebelley_40_MASTER.gdb'}, 'BurialSite_P': {'Chebelley_40_MASTER.gdb'}, 'WaterFeature_L': {'Chebelley_40_MASTER.gdb'}, 'NoiseSource_P': {'CIP_311_AB201.gdb'}, 'NoiseZone_A': {'CIP_311_AB201.gdb'}, 'CulturalRestrictedAccessArea_A': {'CIP_311_AB201.gdb'}, 'CemeteryOrBurialSite_A': {'CIP_311_AB201.gdb', 'SDSFIE_05Apr2023.gdb'}, 'Vegetation_A': {'CIP_311_AB201.gdb'}, 'WaterBody_A': {'CIP_311_AB201.gdb', 'SDSFIE_05Apr2023.gdb'}, 'MonitoringLocation_P': {'CIP_311_AB201.gdb'}, 'ControlMonumentPoint_P': {'CIP_311_AB201.gdb', 'Niamey_SDSFIE_311_Master_9Jan2023.gdb'}, 'Berm_A': {'CIP_311_AB201.gdb', 'SDSFIE_05Apr2023.gdb', 'Niamey_SDSFIE_311_Master_9Jan2023.gdb'}, 'ElevationContour_1m': {'CIP_311_AB201.gdb'}, 'ElevationContour_half_m': {'CIP_311_AB201.gdb'}, 'AmmunitionStorage_A': {'CIP_311_AB201.gdb'}, 'AirfieldLighting_P': {'CIP_311_AB201.gdb'}, 'MilitaryRange_A': {'CIP_311_AB201.gdb', 'SDSFIE_05Apr2023.gdb'}, 'MilitaryQuantityDistanceArc_A': {'CIP_311_AB201.gdb'}, 'MunitionsStorage_A': {'CIP_311_AB201.gdb'}, 'AirNavigationAidAnno': {'CIP_311_AB201.gdb'}, 'PavementSection_A': {'CIP_311_AB201.gdb'}, 'AdministrativeBoundary_A': {'CIP_311_AB201.gdb'}, 'FutureProjects_A': {'CIP_311_AB201.gdb', 'Niamey_SDSFIE_311_Master_9Jan2023.gdb'}, 'AirfieldImaginarySurface_L': {'CIP_311_AB201.gdb'}, 'AirfieldImaginarySurface_A1': {'CIP_311_AB201.gdb'}, 'RecreationArea_A': {'CIP_311_AB201.gdb', 'SDSFIE_05Apr2023.gdb'}, 'Barricade_A': {'CIP_311_AB201.gdb', 'Niamey_SDSFIE_311_Master_9Jan2023.gdb'}, 'Barricade_L': {'CIP_311_AB201.gdb', 'SDSFIE_05Apr2023.gdb', 'Niamey_SDSFIE_311_Master_9Jan2023.gdb'}, 'AirfieldSurface_A': {'CIP_311_AB201.gdb', 'SDSFIE_05Apr2023.gdb', 'Niamey_SDSFIE_311_Master_9Jan2023.gdb'}, 'RoadPath_L': {'CIP_311_AB201.gdb'}, 'Sidewalk_A': {'CIP_311_AB201.gdb', 'Niamey_SDSFIE_311_Master_9Jan2023.gdb'}, 'AirfieldSurface_L': {'CIP_311_AB201.gdb'}, 'PavementMarkings_L': {'CIP_311_AB201.gdb', 'Niamey_SDSFIE_311_Master_9Jan2023.gdb'}, 'PavementMarkings_A': {'CIP_311_AB201.gdb', 'SDSFIE_05Apr2023.gdb'}, 'TrafficControlSign_P': {'CIP_311_AB201.gdb'}, 'ULUC2Route_L': {'CIP_311_AB201.gdb'}, 'eAccessPoint_P': {'CIP_311_AB201.gdb', 'Niamey_SDSFIE_311_Master_9Jan2023.gdb'}, 'eUGPrimary_L': {'CIP_311_AB201.gdb', 'SDSFIE_05Apr2023.gdb', 'Niamey_SDSFIE_311_Master_9Jan2023.gdb'}, 'eUGSecondary_L': {'CIP_311_AB201.gdb'}, 'eGenerator_P': {'CIP_311_AB201.gdb', 'SDSFIE_05Apr2023.gdb', 'Niamey_SDSFIE_311_Master_9Jan2023.gdb'}, 'eTransformer_P': {'CIP_311_AB201.gdb', 'Niamey_SDSFIE_311_Master_9Jan2023.gdb'}, 'eSwitch_P': {'CIP_311_AB201.gdb', 'Niamey_SDSFIE_311_Master_9Jan2023.gdb'}, 'eExteriorLight_P': {'CIP_311_AB201.gdb', 'SDSFIE_05Apr2023.gdb', 'Niamey_SDSFIE_311_Master_9Jan2023.gdb'}, 'oPump_P': {'CIP_311_AB201.gdb'}, 'CommUtilitySegment_L': {'CIP_311_AB201.gdb', 'SDSFIE_05Apr2023.gdb', 'Niamey_SDSFIE_311_Master_9Jan2023.gdb'}, 'SolarPanel_P': {'CIP_311_AB201.gdb'}, 'StorageTank_A': {'CIP_311_AB201.gdb', 'SDSFIE_05Apr2023.gdb', 'Niamey_SDSFIE_311_Master_9Jan2023.gdb'}, 'CommUtilityNode_P': {'CIP_311_AB201.gdb', 'SDSFIE_05Apr2023.gdb'}, 'sManhole_P': {'CIP_311_AB201.gdb', 'Niamey_SDSFIE_311_Master_9Jan2023.gdb'}, 'sTreatmentPlant_A': {'CIP_311_AB201.gdb'}, 'sPumpStation_P': {'CIP_311_AB201.gdb'}, 'sLineGravityService_L': {'CIP_311_AB201.gdb', 'SDSFIE_05Apr2023.gdb', 'Niamey_SDSFIE_311_Master_9Jan2023.gdb'}, 'sCleanOut_P': {'CIP_311_AB201.gdb'}, 'sControlValve_P': {'CIP_311_AB201.gdb', 'Niamey_SDSFIE_311_Master_9Jan2023.gdb'}, 'sLineGravityMain_L': {'CIP_311_AB201.gdb', 'Niamey_SDSFIE_311_Master_9Jan2023.gdb'}, 'dStorageReservoir_A': {'CIP_311_AB201.gdb'}, 'dOpenDrainage_L': {'CIP_311_AB201.gdb', 'Niamey_SDSFIE_311_Master_9Jan2023.gdb'}, 'dCulvert_L': {'CIP_311_AB201.gdb', 'Niamey_SDSFIE_311_Master_9Jan2023.gdb'}, 'wLineMain_L': {'CIP_311_AB201.gdb', 'SDSFIE_05Apr2023.gdb', 'Niamey_SDSFIE_311_Master_9Jan2023.gdb'}, 'wSource_P': {'CIP_311_AB201.gdb'}, 'wControlValve_P': {'CIP_311_AB201.gdb', 'Niamey_SDSFIE_311_Master_9Jan2023.gdb'}, 'wLineService_L': {'CIP_311_AB201.gdb', 'Niamey_SDSFIE_311_Master_9Jan2023.gdb'}, 'FutureProjects_PAnno2': {'CIP_311_AB201.gdb'}, 'FutureProjects_PAnno': {'CIP_311_AB201.gdb'}, 'FutureProjectsAnno': {'CIP_311_AB201.gdb'}, 'BuildingAnno': {'CIP_311_AB201.gdb'}, 'HazardousWasteSite_P': {'Niamey_SDSFIE_311_Master_9Jan2023.gdb'}, 'FloodPlainArea_A': {'Niamey_SDSFIE_311_Master_9Jan2023.gdb'}, 'ElevationContour_L': {'Niamey_SDSFIE_311_Master_9Jan2023.gdb'}, 'RecreationFeature_A': {'Niamey_SDSFIE_311_Master_9Jan2023.gdb'}, 'RoadArea_A': {'SDSFIE_05Apr2023.gdb', 'Niamey_SDSFIE_311_Master_9Jan2023.gdb'}, 'eSwitchingStation_P': {'Niamey_SDSFIE_311_Master_9Jan2023.gdb'}, 'StorageTankFarm_A': {'SDSFIE_05Apr2023.gdb', 'Niamey_SDSFIE_311_Master_9Jan2023.gdb'}, 'sGreaseTrap_P': {'Niamey_SDSFIE_311_Master_9Jan2023.gdb'}, 'sSepticTank_A': {'SDSFIE_05Apr2023.gdb', 'Niamey_SDSFIE_311_Master_9Jan2023.gdb'}, 'sSepticTank_P': {'Niamey_SDSFIE_311_Master_9Jan2023.gdb'}, 'wPump_P': {'Niamey_SDSFIE_311_Master_9Jan2023.gdb'}, 'Incident_P': {'SDSFIE_05Apr2023.gdb'}, 'WatercourseLine_L': {'SDSFIE_05Apr2023.gdb'}, 'Survey_P': {'SDSFIE_05Apr2023.gdb'}, 'RadarEquipment_A': {'SDSFIE_05Apr2023.gdb'}, 'RadarEquipment_P': {'SDSFIE_05Apr2023.gdb'}, 'FutureProjects_P': {'SDSFIE_05Apr2023.gdb'}, 'FlagPole_P': {'SDSFIE_05Apr2023.gdb'}, 'Barricade_P': {'SDSFIE_05Apr2023.gdb'}, 'SectorZone_A': {'SDSFIE_05Apr2023.gdb'}, 'AccessControl_A': {'SDSFIE_05Apr2023.gdb'}, 'NavigationalAid_P': {'SDSFIE_05Apr2023.gdb'}, 'eSubstation_P': {'SDSFIE_05Apr2023.gdb'}, 'eVoltageRegulator_P': {'SDSFIE_05Apr2023.gdb'}, 'Well_P': {'SDSFIE_05Apr2023.gdb'}, 'wWaterTreatment_A': {'SDSFIE_05Apr2023.gdb'}, 'DocksAndWharfs_A': {'SDSFIE_05Apr2023.gdb'}}"
      ]
     },
     "execution_count": 5,
     "metadata": {},
     "output_type": "execute_result"
    }
   ],
   "source": [
    "fc_gdbs"
   ]
  },
  {
   "cell_type": "markdown",
   "metadata": {},
   "source": [
    "#### Copy those feature classes which cross at least 3 bases into \"03_clean_data_cross_at_least_three_bases\"."
   ]
  },
  {
   "cell_type": "code",
   "execution_count": 17,
   "metadata": {},
   "outputs": [
    {
     "name": "stdout",
     "output_type": "stream",
     "text": [
      "finishing copied installation_a to AB201_JAN2024.gdb\n",
      "finishing copied installation_a to Niamey_SDSFIE_311_Master_18MAY2023.gdb\n",
      "finishing copied installation_a to Chebelley_40_MASTER.gdb\n",
      "finishing copied installation_a to SDSFIE_05Apr2023.gdb\n",
      "finishing copied wall_l to AB201_JAN2024.gdb\n",
      "finishing copied wall_l to Niamey_SDSFIE_311_Master_18MAY2023.gdb\n",
      "finishing copied wall_l to Chebelley_40_MASTER.gdb\n",
      "finishing copied wall_l to SDSFIE_05Apr2023.gdb\n",
      "finishing copied pavementslab_a to AB201_JAN2024.gdb\n",
      "finishing copied pavementslab_a to Niamey_SDSFIE_311_Master_18MAY2023.gdb\n",
      "finishing copied pavementslab_a to Chebelley_40_MASTER.gdb\n",
      "finishing copied pavementslab_a to SDSFIE_05Apr2023.gdb\n",
      "finishing copied airfieldimaginarysurface_a to AB201_JAN2024.gdb\n",
      "finishing copied airfieldimaginarysurface_a to Niamey_SDSFIE_311_Master_18MAY2023.gdb\n",
      "finishing copied airfieldimaginarysurface_a to Chebelley_40_MASTER.gdb\n",
      "finishing copied airfieldimaginarysurface_a to SDSFIE_05Apr2023.gdb\n",
      "finishing copied building_a to AB201_JAN2024.gdb\n",
      "finishing copied building_a to Niamey_SDSFIE_311_Master_18MAY2023.gdb\n",
      "finishing copied building_a to Chebelley_40_MASTER.gdb\n",
      "finishing copied building_a to SDSFIE_05Apr2023.gdb\n",
      "finishing copied structure_a to AB201_JAN2024.gdb\n",
      "finishing copied structure_a to Niamey_SDSFIE_311_Master_18MAY2023.gdb\n",
      "finishing copied structure_a to Chebelley_40_MASTER.gdb\n",
      "finishing copied structure_a to SDSFIE_05Apr2023.gdb\n",
      "finishing copied tower_a to Niamey_SDSFIE_311_Master_18MAY2023.gdb\n",
      "finishing copied tower_a to Chebelley_40_MASTER.gdb\n",
      "finishing copied tower_a to SDSFIE_05Apr2023.gdb\n",
      "finishing copied accesscontrol_l to AB201_JAN2024.gdb\n",
      "finishing copied accesscontrol_l to Niamey_SDSFIE_311_Master_18MAY2023.gdb\n",
      "finishing copied accesscontrol_l to Chebelley_40_MASTER.gdb\n",
      "finishing copied accesscontrol_l to SDSFIE_05Apr2023.gdb\n",
      "finishing copied accesscontrol_p to AB201_JAN2024.gdb\n",
      "finishing copied accesscontrol_p to Niamey_SDSFIE_311_Master_18MAY2023.gdb\n",
      "finishing copied accesscontrol_p to Chebelley_40_MASTER.gdb\n",
      "finishing copied accesscontrol_p to SDSFIE_05Apr2023.gdb\n",
      "finishing copied fence_l to AB201_JAN2024.gdb\n",
      "finishing copied fence_l to Niamey_SDSFIE_311_Master_18MAY2023.gdb\n",
      "finishing copied fence_l to Chebelley_40_MASTER.gdb\n",
      "finishing copied fence_l to SDSFIE_05Apr2023.gdb\n",
      "finishing copied roadcenterline_l to AB201_JAN2024.gdb\n",
      "finishing copied roadcenterline_l to Chebelley_40_MASTER.gdb\n",
      "finishing copied roadcenterline_l to SDSFIE_05Apr2023.gdb\n",
      "finishing copied eexteriorlight_p to AB201_JAN2024.gdb\n",
      "finishing copied eexteriorlight_p to Niamey_SDSFIE_311_Master_18MAY2023.gdb\n",
      "finishing copied eexteriorlight_p to Chebelley_40_MASTER.gdb\n",
      "finishing copied eexteriorlight_p to SDSFIE_05Apr2023.gdb\n",
      "finishing copied egenerator_p to AB201_JAN2024.gdb\n",
      "finishing copied egenerator_p to Niamey_SDSFIE_311_Master_18MAY2023.gdb\n",
      "finishing copied egenerator_p to Chebelley_40_MASTER.gdb\n",
      "finishing copied egenerator_p to SDSFIE_05Apr2023.gdb\n",
      "finishing copied eugprimary_l to AB201_JAN2024.gdb\n",
      "finishing copied eugprimary_l to Niamey_SDSFIE_311_Master_18MAY2023.gdb\n",
      "finishing copied eugprimary_l to Chebelley_40_MASTER.gdb\n",
      "finishing copied eugprimary_l to SDSFIE_05Apr2023.gdb\n",
      "finishing copied etransformer_p to AB201_JAN2024.gdb\n",
      "finishing copied etransformer_p to Niamey_SDSFIE_311_Master_18MAY2023.gdb\n",
      "finishing copied etransformer_p to Chebelley_40_MASTER.gdb\n",
      "finishing copied berm_a to Niamey_SDSFIE_311_Master_18MAY2023.gdb\n",
      "finishing copied berm_a to AB201_JAN2024.gdb\n",
      "finishing copied berm_a to SDSFIE_05Apr2023.gdb\n",
      "finishing copied barricade_l to Niamey_SDSFIE_311_Master_18MAY2023.gdb\n",
      "finishing copied barricade_l to AB201_JAN2024.gdb\n",
      "finishing copied barricade_l to SDSFIE_05Apr2023.gdb\n",
      "Completed\n"
     ]
    }
   ],
   "source": [
    "# loop through the counts to find feature classes occurring at least 3 times\n",
    "for fc_name, count in fc_counts.items():\n",
    "    \n",
    "    if count >= 3:\n",
    "        # Loop through the set of gdb names for the current feature class\n",
    "        for gdb_name in fc_gdbs[fc_name]:\n",
    "            # Create a folder with the source gdb name if it doesn't exist\n",
    "            gdb_output_folder = os.path.join(new_folder_path, gdb_name)\n",
    "            if not arcpy.Exists(gdb_output_folder):\n",
    "                arcpy.management.CreateFileGDB(os.path.dirname(gdb_output_folder), gdb_name)\n",
    "\n",
    "\n",
    "            # Copy the feature class to the output folder\n",
    "            arcpy.conversion.FeatureClassToFeatureClass(os.path.join(source_folder, gdb_name, fc_name), gdb_output_folder, os.path.basename(fc_name))\n",
    "\n",
    "            print(f\"finishing copied {fc_name} to {gdb_name}\")\n",
    "print(\"Completed\")"
   ]
  },
  {
   "cell_type": "markdown",
   "metadata": {},
   "source": [
    "#### copy culvert data into new folder\n",
    "Since the culvert data is named differently in different databases, it may not appear in the previous result. This part is to find and copy feature classes containing \"culvert\" from geodatabases into new folder."
   ]
  },
  {
   "cell_type": "code",
   "execution_count": 5,
   "metadata": {},
   "outputs": [
    {
     "name": "stdout",
     "output_type": "stream",
     "text": [
      "Finished copying SwCulvert_L to C:\\Users\\ma000551\\Desktop\\AFRICOM\\AFRICOM_CLEAN_DATA\\03_clean_data_cross_at_least_three_bases\\Chebelley_40_MASTER.gdb\n",
      "Finished copying SwCulvert_L to C:\\Users\\ma000551\\Desktop\\AFRICOM\\AFRICOM_CLEAN_DATA\\03_clean_data_cross_at_least_three_bases\\AB201_JAN2024.gdb\n",
      "Finished copying dCulvert_L to C:\\Users\\ma000551\\Desktop\\AFRICOM\\AFRICOM_CLEAN_DATA\\03_clean_data_cross_at_least_three_bases\\Niamey_SDSFIE_311_Master_18MAY2023.gdb\n"
     ]
    }
   ],
   "source": [
    "# Loop through the rest of the geodatabases\n",
    "for gdb in clean_gdbs_path:\n",
    "    # Set the workspace for the current gdb\n",
    "    arcpy.env.workspace = gdb\n",
    "    gdb_name = os.path.basename(arcpy.env.workspace)\n",
    "    \n",
    "    # Define the output folder path\n",
    "    output_folder = os.path.join(new_folder_path, gdb_name)\n",
    "    if not os.path.exists(output_folder):\n",
    "        os.makedirs(output_folder)\n",
    "    \n",
    "    # List all datasets in gdbs\n",
    "    feature_fds = arcpy.ListDatasets(\"\", \"\")\n",
    "    \n",
    "    # If the database has datasets\n",
    "    if feature_fds:\n",
    "        for fd in feature_fds:\n",
    "            # List all the feature classes\n",
    "            fcs = arcpy.ListFeatureClasses(\"*culvert*\", \"ALL\", fd)  # Using wildcard to find similar names\n",
    "            for fc in fcs:\n",
    "                arcpy.conversion.FeatureClassToFeatureClass(os.path.join(gdb, fd, fc), output_folder, os.path.basename(fc))\n",
    "                print(f\"Finished copying {fc} to {output_folder}\")\n",
    "\n",
    "    else:\n",
    "        # List all feature classes in the current gdb\n",
    "        fcs = arcpy.ListFeatureClasses(\"*culvert*\", \"ALL\")  # Using wildcard to find similar names\n",
    "        for fc in fcs:\n",
    "            arcpy.conversion.FeatureClassToFeatureClass(os.path.join(gdb, fc), output_folder, os.path.basename(fc))\n",
    "            print(f\"Finished copying {fc} to {output_folder}\")\n"
   ]
  },
  {
   "cell_type": "markdown",
   "metadata": {},
   "source": [
    "#### rename GDBs"
   ]
  },
  {
   "cell_type": "markdown",
   "metadata": {},
   "source": [
    "| Original                    | Rename                              |\n",
    "|-----------------------------|-------------------------------------|\n",
    "| AB201_JAN2024               | manu_dayek_agadez_2024-01          |\n",
    "| Niamey_SDSFIE_311_Master_18MAY2023 | diori_hamani_niamey_2023-05   |\n",
    "| CIP_311_AB201               | manu_dayek_agadez_2022-04          |\n",
    "| Niamey_SDSFIE_311_Master_9Jan2023 | diori_hamani_niamey_2023-01   |\n",
    "| Chebelley_40_MASTER         | chabelley_2023-03                   |\n",
    "| SDSFIE_05Apr2023            | manda_bay_2023-04                   |\n"
   ]
  },
  {
   "cell_type": "markdown",
   "metadata": {},
   "source": [
    "#### upload to AGOL\n"
   ]
  },
  {
   "cell_type": "markdown",
   "metadata": {},
   "source": [
    "### calculate the coverage check of each base\n",
    "create fields \"culvert\", \"building\", \"impervious\"\n",
    "- if data present : 1\n",
    "- if data not present AND visual inspect present : -1\n",
    "- if data not present AND visual inspect not present : 0\n",
    "- To narrow the scope, we focused on the area where we have data, if out of the scope: Null\n",
    "\n",
    "Then create fields \"has_data\", \"lack_data\" to present the above data"
   ]
  },
  {
   "cell_type": "code",
   "execution_count": 3,
   "metadata": {},
   "outputs": [],
   "source": [
    "arcpy.env.workspace = r'C:\\Users\\ma000551\\Desktop\\AFRICOM\\FC_check\\FC_check.gdb'\n",
    "# fishnets\n",
    "feature_classes = [\"fishnet_chabelley\", \"fishnet_AB201\", \"fishnet_Niamey\", \"fishnet_manda_bay\"]\n",
    "\n",
    "for fc in feature_classes:\n",
    "    with arcpy.da.UpdateCursor(fc, [\"culvert\", \"building\", \"impervious\", \"has_data\", \"lack_data\"]) as cursor:\n",
    "        for row in cursor:\n",
    "            \n",
    "            # if all the value are null, skip those rows\n",
    "            if all(field_value is None for field_value in row[:3]):\n",
    "                continue  \n",
    "            \n",
    "            # initialize counters\n",
    "            has_count = 0\n",
    "            lack_count = 0\n",
    "            \n",
    "            # check if any field is 1 or -1\n",
    "            for field_value in row[:3]:\n",
    "                if field_value == 1:\n",
    "                    has_count += 1  # if 1，has_count +1\n",
    "                elif field_value == -1:\n",
    "                    lack_count += 1  # if -1，lack_count +1\n",
    "                    \n",
    "            # assign the counts to the respective fields\n",
    "            row[3] = has_count\n",
    "            row[4] = lack_count\n",
    "            \n",
    "            cursor.updateRow(row)\n"
   ]
  },
  {
   "cell_type": "markdown",
   "metadata": {},
   "source": [
    "#### Calculate the percentage of lack data count (where was assigned by -1) / not null grid count "
   ]
  },
  {
   "cell_type": "code",
   "execution_count": 4,
   "metadata": {},
   "outputs": [
    {
     "name": "stdout",
     "output_type": "stream",
     "text": [
      "---fishnet_chabelley---\n",
      "lack data count:  37\n",
      "non null total count:  442\n",
      "lack data ratio: 8.37%\n",
      "﻿\n",
      "---fishnet_AB201---\n",
      "lack data count:  25\n",
      "non null total count:  1108\n",
      "lack data ratio: 2.26%\n",
      "﻿\n",
      "---fishnet_Niamey---\n",
      "lack data count:  174\n",
      "non null total count:  1327\n",
      "lack data ratio: 13.11%\n",
      "﻿\n",
      "---fishnet_manda_bay---\n",
      "lack data count:  84\n",
      "non null total count:  711\n",
      "lack data ratio: 11.81%\n",
      "﻿\n"
     ]
    }
   ],
   "source": [
    "arcpy.env.workspace = r'C:\\Users\\ma000551\\Desktop\\AFRICOM\\FC_check\\FC_check.gdb'\n",
    "# feature classes\n",
    "feature_classes = [\"fishnet_chabelley\", \"fishnet_AB201\", \"fishnet_Niamey\", \"fishnet_manda_bay\"]\n",
    "\n",
    "# attribute fields\n",
    "attribute_fields = [\"culvert\", \"building\", \"impervious\", \"has_data\", \"lack_data\"]\n",
    "\n",
    "for fc in feature_classes:\n",
    "    print(f\"---{fc}---\")\n",
    "\n",
    "    for field in attribute_fields:\n",
    "\n",
    "        if field == \"lack_data\":\n",
    "            # select rows where \"lack_data\" is not equal to 0 and not null\n",
    "            where_clause = f\"{field} IS NOT NULL AND {field} <> 0 \"\n",
    "\n",
    "            lack_data = arcpy.management.SelectLayerByAttribute(fc, \"NEW_SELECTION\", where_clause)\n",
    "\n",
    "            # count the selected features where \"lack_data\" is not equal to 0\n",
    "            lack_data_count = int(arcpy.management.GetCount(lack_data).getOutput(0))\n",
    "            \n",
    "            # calculate total count of features where field is not null\n",
    "            total_count = arcpy.management.SelectLayerByAttribute(fc, \"NEW_SELECTION\", f\"{field} IS NOT NULL\")\n",
    "            \n",
    "            \n",
    "            total_count_non_null = int(arcpy.management.GetCount(total_count).getOutput(0))\n",
    "            \n",
    "            print (\"lack data count: \", lack_data_count)\n",
    "            print (\"non null total count: \", total_count_non_null)\n",
    "\n",
    "            # calculate the ratio\n",
    "            lack_data_ratio = lack_data_count / total_count_non_null\n",
    "            print(f\"lack data ratio: {lack_data_ratio:.2%}\")\n",
    "            print(\"\")\n"
   ]
  },
  {
   "cell_type": "markdown",
   "metadata": {},
   "source": [
    "### convert layer to shapfile"
   ]
  },
  {
   "cell_type": "code",
   "execution_count": 6,
   "metadata": {},
   "outputs": [],
   "source": [
    "source_folder = r\"C:\\Users\\ma000551\\Desktop\\AFRICOM\\02_raw_no_duplicates_or_empty_feature_layers\"\n",
    "\n",
    "clean_gdbs_path = [\n",
    "    fr\"{source_folder}\\Chebelley_40_MASTER.gdb\",\n",
    "    fr\"{source_folder}\\CIP_311_AB201.gdb\",\n",
    "    fr\"{source_folder}\\Niamey_SDSFIE_311_Master_9Jan2023.gdb\",\n",
    "    fr\"{source_folder}\\SDSFIE_05Apr2023.gdb\"\n",
    "]\n",
    "\n",
    "output_folder = r\"C:\\Users\\ma000551\\Desktop\\AFRICOM\\Shapefiles\" "
   ]
  },
  {
   "cell_type": "code",
   "execution_count": 7,
   "metadata": {},
   "outputs": [],
   "source": [
    "def fc_shp(gdb_path, out_folder, selected_fcs):\n",
    "    arcpy.env.workspace = gdb_path\n",
    "    \n",
    "    for fc in selected_fcs:\n",
    "        out_name = os.path.join(out_folder, os.path.splitext(fc)[0] + \".shp\")\n",
    "        arcpy.conversion.FeatureClassToShapefile(fc, out_folder)\n",
    "        print(f\"{fc} converted to Shapefile successfully!\")"
   ]
  },
  {
   "cell_type": "code",
   "execution_count": 8,
   "metadata": {},
   "outputs": [
    {
     "name": "stdout",
     "output_type": "stream",
     "text": [
      "All geodatabase:\n",
      "1. C:\\Users\\ma000551\\Desktop\\AFRICOM\\02_raw_no_duplicates_or_empty_feature_layers\\Chebelley_40_MASTER.gdb\n",
      "2. C:\\Users\\ma000551\\Desktop\\AFRICOM\\02_raw_no_duplicates_or_empty_feature_layers\\CIP_311_AB201.gdb\n",
      "3. C:\\Users\\ma000551\\Desktop\\AFRICOM\\02_raw_no_duplicates_or_empty_feature_layers\\Niamey_SDSFIE_311_Master_9Jan2023.gdb\n",
      "4. C:\\Users\\ma000551\\Desktop\\AFRICOM\\02_raw_no_duplicates_or_empty_feature_layers\\SDSFIE_05Apr2023.gdb\n",
      "Enter the number of the geodatabase you want to convert: 1\n",
      "Available feature classes in Chebelley_40_MASTER.gdb:\n",
      "1. Installation_P\n",
      "2. Installation_A\n",
      "3. Site_P\n",
      "4. Site_A\n",
      "5. Zones_A_12_2022\n",
      "6. EmergencyMedicalPoint_P\n",
      "7. Wall_L\n",
      "8. Wall_A\n",
      "9. ControlMonument_P\n",
      "10. EsqdArc_A\n",
      "11. ImpactArea_A\n",
      "12. MilitaryLandingZone_A\n",
      "13. MilitaryObservationPosition_P\n",
      "14. SpentMunitionsStorage_P\n",
      "15. SpentMunitionsStorage_A\n",
      "16. PavementSlab_A\n",
      "17. AirAccidentPotentialZone_A\n",
      "18. AirfieldImaginarySurface_A\n",
      "19. DesignatedTobaccoUse_P\n",
      "20. FutureProjectSite_A\n",
      "21. LandManagementZone_A\n",
      "22. LandUse_A\n",
      "23. StandoffDistanceArc_A\n",
      "24. Building_A\n",
      "25. Structure_A\n",
      "26. Tower_P\n",
      "27. Tower_A\n",
      "28. AccessControl_L\n",
      "29. AccessControl_P\n",
      "30. Fence_L\n",
      "31. RestrictedArea_A\n",
      "32. VehicleParking_A\n",
      "33. PavementMarking_A\n",
      "34. PavementMarking_L\n",
      "35. Airfield_A\n",
      "36. Roadway_L\n",
      "37. Roadway_A\n",
      "38. RoadCenterline_L\n",
      "39. TrafficControlPostSign_P\n",
      "40. Airfield_L\n",
      "41. CAccessPoint_P\n",
      "42. CConduit_L\n",
      "43. CFiberCable_L\n",
      "44. EAirfieldLight_P\n",
      "45. EExteriorLight_P\n",
      "46. EGenerator_P\n",
      "47. EUGPrimary_L\n",
      "48. EOHSecondary_L\n",
      "49. ETransformer_P\n",
      "50. OStorageTank_P\n",
      "51. OPumpStation_P\n",
      "52. SGravityMain_L\n",
      "53. SSepticTank_P\n",
      "54. SwCulvert_L\n",
      "55. SwOpenDrainage_L\n",
      "56. WSource_P\n",
      "57. WStorageTank_P\n",
      "58. HazardousWasteManagement_P\n",
      "59. ArchaeologicalSite_A\n",
      "60. ArchaeologicalSite_P\n",
      "61. BurialSite_P\n",
      "62. WaterFeature_L\n",
      "Enter the numbers of the feature classes you want to convert (separated by comma): 54\n",
      "SwCulvert_L converted to Shapefile successfully!\n"
     ]
    }
   ],
   "source": [
    "# print all gdbs\n",
    "print(\"All geodatabase:\")\n",
    "for i, gdb_path in enumerate(clean_gdbs_path):\n",
    "    print(f\"{i + 1}. {gdb_path}\")\n",
    "\n",
    "# choose gdb\n",
    "choice = int(input(\"Enter the number of the geodatabase you want to convert: \"))\n",
    "gdb_path = clean_gdbs_path[choice - 1]\n",
    "\n",
    "# set the workspace to selected gdb\n",
    "arcpy.env.workspace = gdb_path\n",
    "\n",
    "# select all feature classes\n",
    "feature_classes = arcpy.ListFeatureClasses()\n",
    "\n",
    "# print which feature classes are in the gdb\n",
    "print(f\"Available feature classes in {os.path.basename(gdb_path)}:\")\n",
    "for i, fc in enumerate(feature_classes):\n",
    "    print(f\"{i + 1}. {fc}\")\n",
    "\n",
    "# select the fcs\n",
    "selected_choices = input(\"Enter the numbers of the feature classes you want to convert (separated by comma): \")\n",
    "selected_choices = list(map(int, selected_choices.split(',')))\n",
    "selected_fcs = [feature_classes[choice - 1] for choice in selected_choices]\n",
    "\n",
    "# create folder\n",
    "gdb_name = os.path.splitext(os.path.basename(gdb_path))[0]\n",
    "out_folder = os.path.join(output_folder, gdb_name)\n",
    "if not os.path.exists(out_folder):\n",
    "    os.makedirs(out_folder)\n",
    "    \n",
    "# execute the function    \n",
    "fc_shp(gdb_path, out_folder, selected_fcs)"
   ]
  }
 ],
 "metadata": {
  "kernelspec": {
   "display_name": "ArcGISPro",
   "language": "Python",
   "name": "python3"
  },
  "language_info": {
   "file_extension": ".py",
   "name": "python",
   "version": "3"
  }
 },
 "nbformat": 4,
 "nbformat_minor": 2
}
